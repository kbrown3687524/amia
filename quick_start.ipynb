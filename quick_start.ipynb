{
 "cells": [
  {
   "cell_type": "markdown",
   "metadata": {},
   "source": [
    "<img src=\"./imgs/logo-white.jpg\" alt=\"amia_logo\" width=\"250\" height=\"250\">"
   ]
  },
  {
   "cell_type": "markdown",
   "metadata": {},
   "source": [
    "## Quick Start"
   ]
  },
  {
   "cell_type": "markdown",
   "metadata": {},
   "source": [
    "**AMIA version:** 1.1 \n"
   ]
  },
  {
   "cell_type": "markdown",
   "metadata": {},
   "source": [
    "**Last Updated:** 5 Nov 2023"
   ]
  },
  {
   "cell_type": "markdown",
   "metadata": {},
   "source": [
    "This guide is designed as a basic introduction to MDAnalysis to get you up and running. This page outlines how to:\n",
    "\n",
    "* Setup a residue variation file\n",
    "* Expected outputs from Phase 1 of the pipeline\n",
    "* Expected Outputs from Phase 2 of the pipeline"
   ]
  },
  {
   "cell_type": "markdown",
   "metadata": {},
   "source": [
    "Open a teminal with an active **<span style=\"background:#555554\" >`amia`</span>** environment and change into the downloaded amia repository. This is where you will be executing a majority of the scripts associated with the pipeline:"
   ]
  },
  {
   "cell_type": "markdown",
   "metadata": {},
   "source": [
    "<img src=\"./imgs/env_term.png\" alt=\"env_term\" height=\"30\" width=1200>"
   ]
  },
  {
   "cell_type": "markdown",
   "metadata": {},
   "source": [
    "Running the following command on the command-line of the terminal will initiate the first phase of the workflow. The mode of introduction defines whether the reisude variations from each subset will be incorperated individually into the protein structures or whether the variations from each subset will be intoroduced together:\n",
    "\n",
    "**<span style=\"background:#555554\">`./AMiA.py --mode single --pdb_file /path_to/test/HIV-1C_ZA/RLT_Model_Repair.pdb --mutations /path_to/test/HIV-1C_ZA/mutations.csv --output_dir /path_to/test/variant_outputs` </span>**"
   ]
  },
  {
   "cell_type": "markdown",
   "metadata": {},
   "source": [
    "<img src=\"./imgs/phase1_cmd.png\" alt=\"env_term\" height=\"55\" width=1200>"
   ]
  },
  {
   "cell_type": "markdown",
   "metadata": {},
   "source": [
    "**Description** of the paramters supplied to the script:\n",
    "\n",
    "* The **<span style=\"background:#555554\">```--mode```</span>** specifies whether the mutations from each subset present within the mutation file should be introduced individually or in combination with one another into the supplied protein structure. \n",
    "\n",
    "* The **<span style=\"background:#555554\">```--pdb_file```</span>** specifies the path to the Protein structure that the mutations will be introduced to. \n",
    "\n",
    "* The **<span style=\"background:#555554\">```--mutations```</span>** specifies the path to the Mutations File that the mutations will be introduced to. \n",
    "\n",
    "* The **<span style=\"background:#555554\">```--output_dir```</span>** specifies the directory that the respective output files will be stored in. "
   ]
  },
  {
   "cell_type": "markdown",
   "metadata": {},
   "source": [
    "The residue variation file **<span style=\"background:#555554\">`./test/mutations.csv`</span>** is setup in such a manner that the residue variations are listed beneath the source from which they were identified. This variation file is one of the major parameters passed to the **<span style=\"background:#555554\">`AMIA.py`</span>** script which imports functions from a set of core modules:\n",
    "\n",
    "* **<span style=\"background:#555554\">`mutintro.py`</span>** which performs the *in silico* site directed mutagenesis and generates files with the modified protein residues (.pdb)\n",
    "* **<span style=\"background:#555554\">`contacts.py`</span>** which performs the comparison of contacts between the initial and modified structures and generates a table (.html)\n",
    "* **<span style=\"background:#555554\">`foldxana.py`</span>** which calculates the changes in protein stability betweent the initial and modified structures. \n",
    "\n",
    "Each of the residue variations are displayed in the standardized format of initial residue, residue position and lastly the variant residue in the following manner:"
   ]
  },
  {
   "cell_type": "markdown",
   "metadata": {},
   "source": [
    "| Rumbie_P1_System: | Rumbie_P2_System: | Rumbie_P3_System: | Rumbie_P4_System: | Rumbie_P5_System: | Rumbie_P6_System: | Rumbie_P8_System: | Rumbie_P9_System: | Rumbie_P10_System: |\n",
    "|-------------------|-------------------|-------------------|-------------------|-------------------|-------------------|-------------------|-------------------|--------------------|\n",
    "| S39C              | I84M              | K215N             | I84V              | S24N              | L63I              | S24N              | I84M              | E96D               |\n",
    "|                   | S119P             |                   | G134N             | K211Q             | V75M              | S195C             | I113V             |                    |\n",
    "|                   | T206S             |                   | I135V             | I220V             | G134N             |                   | K211R             |                    |\n",
    "|                   | T210A             |                   | V150A             |                   | I135V             |                   | S255G             |                    |\n",
    "|                   | K215N             |                   | M154I             |                   | T206S             |                   | Y143R             |                    |\n",
    "|                   | Y143R             |                   |                   |                   | Y143R             |                   |                   |                    |\n"
   ]
  },
  {
   "cell_type": "markdown",
   "metadata": {},
   "source": [
    "### Core Modules Specifications "
   ]
  },
  {
   "cell_type": "markdown",
   "metadata": {},
   "source": [
    "#### Mutintro.py"
   ]
  },
  {
   "cell_type": "markdown",
   "metadata": {},
   "source": [
    "The class **<span style=\"background:#555554\">`MutationIntro`</span>** defines a set of functions which reads and processes the protein residue variation file, loads the specified structure into PyMOL,then introduces the variant residues in place of the original and generates a set of resultant variant structures.\n",
    "\n",
    "**<span style=\"background:#555554\">`MutationIntro.mutant_processing(self, mutant_list):`</span>**\n",
    "* **<span style=\"background:#555554\">`mutant_list`</span>** is the file supplied to the script \n",
    "<p> This function reads the variant file and seperates the mutations into groups or individually based on the introduction mode paramater specified.</p>\n",
    "\n",
    "**<span style=\"background:#555554\">`MutationIntro.individual_introduction(self, pdb_file, output_dir, mutant_data):`</span>**\n",
    "* **<span style=\"background:#555554\">`pdb_file`</span>** is the protein structure file supplied by the user.\n",
    "* **<span style=\"background:#555554\">`output_dir`</span>** is the output directory supplied by the user.\n",
    "* **<span style=\"background:#555554\">`mutant_data`</span>** is the variation file supplied by the user.\n",
    "\n",
    "\n",
    "This function calls **<span style=\"background:#555554\">`MutationIntro.mutant_processing(self, mutant_list)`</span>** which reads and stores the mutation file into a Python dictionary after which the stored residue variations are converted from the single-letter residue code to the three-letter residue code format which PyMOL recognizes for residue mutagenesis. \n",
    "\n",
    "The function iterates over each of the subsets stored in the dictionary and segments them into the three respective subcomponents for further processing. Using the [PyMOL API](https://pymol.org/pymol-command-ref.html) which calls and implements the mutagenesis wizard, the variant residues are incorperated into the protein structure at the respective position within the protein sequence.\n",
    "\n",
    "Once the residue has been introduced successfully the built-in molecular energy minimizer [MMFF94](https://en.wikipedia.org/wiki/Merck_molecular_force_field) to reduce steric clashes between residues ensuring optimal residue conformation within the introduced region. Once complete these resultant variant structures are exported as PDB files for further downstream processing and analyses."
   ]
  }
 ],
 "metadata": {
  "language_info": {
   "name": "python"
  }
 },
 "nbformat": 4,
 "nbformat_minor": 2
}
