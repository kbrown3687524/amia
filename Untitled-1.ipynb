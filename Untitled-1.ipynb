{
 "cells": [
  {
   "cell_type": "code",
   "execution_count": 4,
   "id": "99b71635",
   "metadata": {},
   "outputs": [],
   "source": [
    "import requests\n",
    "\n",
    "url = 'https://passer.smu.edu/api'\n",
    "files = {'pdbFile': open('/home/cloetes-lab/EBOV_3DB_Data/EBOV_PPI/LZERD/GP_Monomeric_Protein_Protein_Docking/EBOV_GP_CANX/decoys-top10/EBOV_GP_CANX_model1.pdb', 'rb')}\n",
    "results = requests.post('https://passer.smu.edu/api', files=files)\n",
    "data = {'format': 'zip'}  # optional: 'model': 'rank'\n",
    "\n",
    "response = requests.post(url, files=files, data=data)\n",
    "\n",
    "# Save the ZIP file locally\n",
    "with open('passer_results.zip', 'wb') as f:\n",
    "    f.write(response.content)"
   ]
  }
 ],
 "metadata": {
  "kernelspec": {
   "display_name": "base",
   "language": "python",
   "name": "python3"
  },
  "language_info": {
   "codemirror_mode": {
    "name": "ipython",
    "version": 3
   },
   "file_extension": ".py",
   "mimetype": "text/x-python",
   "name": "python",
   "nbconvert_exporter": "python",
   "pygments_lexer": "ipython3",
   "version": "3.12.7"
  }
 },
 "nbformat": 4,
 "nbformat_minor": 5
}
