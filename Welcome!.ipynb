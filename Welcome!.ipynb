{
 "cells": [
  {
   "cell_type": "markdown",
   "metadata": {},
   "source": [
    "<img src=\"./imgs/logo-white.jpg\" alt=\"amia_logo\" width=\"250\" height=\"250\">"
   ]
  },
  {
   "cell_type": "markdown",
   "metadata": {},
   "source": [
    "## Welcome to AMIA Pipeline User Guide’s documentation!"
   ]
  },
  {
   "cell_type": "markdown",
   "metadata": {},
   "source": [
    "**AMIA version:** 1.1 \n"
   ]
  },
  {
   "cell_type": "markdown",
   "metadata": {},
   "source": [
    "**Last Updated:** 5 Nov 2023"
   ]
  },
  {
   "cell_type": "markdown",
   "metadata": {},
   "source": [
    "**AMIA** is a Python toolkit built on a Unix OS to analyse the impact of residue variations on protein structures in both their static and dynamic conformations. This tools aims to provide an accelerated framework to perform the complex task of prioritizing poential resistance residue variations that potentially impact treatment regimens. "
   ]
  },
  {
   "cell_type": "markdown",
   "metadata": {},
   "source": [
    "### Why AMIA Pipeline?"
   ]
  },
  {
   "cell_type": "markdown",
   "metadata": {},
   "source": [
    "##### The typical use case for the AMIA pipeline is to:\n",
    "\n",
    "1. Introduce residue variations into static protein structures.\n",
    "2. Analyse and compare structural conformation differences before and after residue alterations.\n",
    "3. Ananlyse and Visualize the trajectory statistics associated with Molecular Dynamic Simulations. "
   ]
  },
  {
   "cell_type": "markdown",
   "metadata": {},
   "source": [
    "##### Pipeline Key Features:\n",
    "\n",
    "* **Structured Workflow:** provides a systematic to research, ensuring clear steps and processes are followed, which enhances efficiency and reduces errors.\n",
    "\n",
    "* **Reproducibility:** well-defined pipelines enable the replication of research procedures, making it easier validate findings, increasing the reliability of research outcomes.\n",
    "\n",
    "* **Standardization:** standardized methods and protocols, ensure consistency in data collection, analysis, and interpretation, which is crucial for accurate comparisons and collaborative efforts.\n",
    "\n",
    "* **Adaptability and Scalability:** The AMIA pipeline can be adapted and scaled to fit different research projects and varying complexities, providing flexibility in addressing diverse research needs.\n",
    "\n",
    "* **Resource Optimization:** The pipeline aids in the optimal utilization of resources, minimizing redundancy and maximizing the use of available tools and technologies."
   ]
  }
 ],
 "metadata": {
  "language_info": {
   "name": "python"
  }
 },
 "nbformat": 4,
 "nbformat_minor": 2
}
