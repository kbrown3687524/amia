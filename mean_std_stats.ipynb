{
 "cells": [
  {
   "cell_type": "code",
   "execution_count": 1,
   "metadata": {},
   "outputs": [
    {
     "name": "stdout",
     "output_type": "stream",
     "text": [
      "c31s_rgyr.csv\n",
      "c31s_rmsd.csv\n",
      "c31s_rmsd_na.csv\n",
      "seg_0_PROA_rmsf.csv\n",
      "q63e_rgyr.csv\n",
      "q63e_rmsd.csv\n",
      "q63e_rmsd_na.csv\n",
      "seg_0_PROA_rmsf.csv\n",
      "wt_rgyr.csv\n",
      "wt_rmsd.csv\n",
      "wt_rmsd_na.csv\n"
     ]
    }
   ],
   "source": [
    "import os\n",
    "system_path = r'C:\\Users\\ingwe\\Downloads\\NWU_Final_fin-20231104T132702Z-002\\NWU_Final_fin\\Run1'\n",
    "os.chdir(system_path)\n",
    "\n",
    "import pandas as pd\n",
    "\n",
    "def traj_mean():\n",
    "    for system in os.listdir():\n",
    "        os.chdir(system)\n",
    "        stats_file = open(f'{system}_mean_std_stats.txt', 'w')\n",
    "        for file in os.listdir():\n",
    "            if file.endswith('.csv'):\n",
    "                if 'pca' not in str(file).lower():\n",
    "                    df = pd.read_csv(file)\n",
    "                    df = df.iloc[:,1:]\n",
    "                    columns = list(df)\n",
    "                    print(file)\n",
    "                    for i in columns:\n",
    "                        if i != \"Time (ns)\":\n",
    "                            if i !=\"Frame\":\n",
    "                                stats_file.write(file)\n",
    "                                stats_file.write('\\n')\n",
    "                                stats_file.write(f\"Mean {i}: {df[i].mean()/10}\")\n",
    "                                stats_file.write('\\n')\n",
    "                                stats_file.write(f\"Standard deviation: {df[i].std()/10}\")\n",
    "                                stats_file.write('\\n')\n",
    "                                stats_file.write('\\n')\n",
    "        stats_file.close()\n",
    "        os.chdir(system_path)\n",
    "        \n",
    "traj_mean()"
   ]
  }
 ],
 "metadata": {
  "kernelspec": {
   "display_name": "Python 3",
   "language": "python",
   "name": "python3"
  },
  "language_info": {
   "codemirror_mode": {
    "name": "ipython",
    "version": 3
   },
   "file_extension": ".py",
   "mimetype": "text/x-python",
   "name": "python",
   "nbconvert_exporter": "python",
   "pygments_lexer": "ipython3",
   "version": "3.11.6"
  }
 },
 "nbformat": 4,
 "nbformat_minor": 2
}
