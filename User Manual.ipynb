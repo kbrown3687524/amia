{
 "cells": [
  {
   "cell_type": "markdown",
   "metadata": {},
   "source": [
    "<img src=\"./imgs/logo-white.jpg\" alt=\"amia_logo\">"
   ]
  },
  {
   "cell_type": "markdown",
   "metadata": {},
   "source": [
    "### \"Revolutionizing Research with Advanced Bioinformatics Solutions\""
   ]
  },
  {
   "cell_type": "markdown",
   "metadata": {},
   "source": [
    "The identification and prioritization of drug-resistant mutations affecting protein interactions in macromolecular systems are crucial for effective viral infection treatment. With an increasing array of computational tools, maintaining scalability and reproducibility is fundamental in both experimental research and computational analysis. Implementing the principles of findability, accessibility, interoperability, and reusability, alongside diverse computational tools, significantly accelerates the analysis of existing datasets.\n",
    "\n",
    "The introduced bioinformatics pipeline, termed AMIA, integrates various structural analysis tools, optimizing computational resources to streamline data transformation processes. Leveraging Python and established software tools, the pipeline automates mutation introduction, interaction assessment, and energy evaluation in protein folding. By allowing visualization of outputs in a user-friendly manner, these scripts enable the prioritization of variant systems for experimental validation, a feature not present in other software tools. The AMIA pipeline is designed for deployment on Linux systems and servers, aiming for automated workflows to enhance research reproducibility."
   ]
  },
  {
   "cell_type": "markdown",
   "metadata": {},
   "source": [
    "Read more:\n",
    "\n",
    "* [Welcome](./Welcome!.ipynb)\n",
    "* [Installation](./installation_usage.ipynb)\n",
    "* [Quick Start](./quick_start.ipynb)\n",
    "* [AMIA Fundamentals](./)\n",
    "* [Participation](#reserach-organizations-and-funders)\n",
    "* [Citations](#citations-and-software)"
   ]
  },
  {
   "cell_type": "markdown",
   "metadata": {},
   "source": [
    "### Availability"
   ]
  },
  {
   "cell_type": "markdown",
   "metadata": {},
   "source": [
    "AMIA can easily be installed with its respective dependencies using the `conda` package manager, is available under the [GNU General Public License](/LICENSE) and is available at the [AMIA GitHub Repository](https://github.com/kbrown3687524/amia.git)"
   ]
  },
  {
   "cell_type": "markdown",
   "metadata": {},
   "source": [
    "### Participation"
   ]
  },
  {
   "cell_type": "markdown",
   "metadata": {},
   "source": [
    " AMIA implements a variety of exisiting open-source/ academic licensing software tools within the bioinformatics community and as such this pipeline follows similar practices. This model encourages collaboration, transparency, and community-driven development, allowing anyone to inspect, modify, or enhance the software.\n",
    "\n",
    "Questions relating to the software package can be directed to [Contact Us](mailto:3687524@myuwc.ac.za) while the package can be [forked](https://www.github.com/kbrown3687524) from this repository. If there are any noticable **bugs** with the software tool please submit a request to the [Issue Tracker](https://github.com/kbrown3687524/amia/issues) or if you wouild like to contribute towards this tools [Contact Us](mailto:3687524@myuwc.ac.za).\n",
    "\n"
   ]
  },
  {
   "cell_type": "markdown",
   "metadata": {},
   "source": [
    "### Reserach Organizations and Funders"
   ]
  },
  {
   "cell_type": "markdown",
   "metadata": {},
   "source": [
    "[<img decoding=\"async\" fetchpriority=\"high\" width=\"121\" height=\"150\" src=\"https://i0.wp.com/www.sanbi.ac.za/wp-content/uploads/2020/02/SANBI_logo-2.png?fit=241%2C300&amp;ssl=1\" class=\"attachment-medium size-medium wp-image-1654\" alt=\"\" srcset=\"https://i0.wp.com/www.sanbi.ac.za/wp-content/uploads/2020/02/SANBI_logo-2.png?w=2000&amp;ssl=1 2000w, https://i0.wp.com/www.sanbi.ac.za/wp-content/uploads/2020/02/SANBI_logo-2.png?resize=241%2C300&amp;ssl=1 241w, https://i0.wp.com/www.sanbi.ac.za/wp-content/uploads/2020/02/SANBI_logo-2.png?resize=824%2C1024&amp;ssl=1 824w, https://i0.wp.com/www.sanbi.ac.za/wp-content/uploads/2020/02/SANBI_logo-2.png?resize=768%2C955&amp;ssl=1 768w, https://i0.wp.com/www.sanbi.ac.za/wp-content/uploads/2020/02/SANBI_logo-2.png?resize=1236%2C1536&amp;ssl=1 1236w, https://i0.wp.com/www.sanbi.ac.za/wp-content/uploads/2020/02/SANBI_logo-2.png?resize=1648%2C2048&amp;ssl=1 1648w\" sizes=\"(max-width: 241px) 100vw, 241px\">](https://www.sanbi.ac.za) [<img src=\"./imgs/UWC_logo.svg\" alt=\"UWC_logo.svg\" width=\"300\" height=\"150\">](https://www.uwc.ac.za) [<img src=\"./imgs/PRFlogo.png\" alt=\"PRF_logo.svg\" width=\"250\" height=\"120\" style=\"background:white\">](https://www.uwc.ac.za) "
   ]
  },
  {
   "cell_type": "markdown",
   "metadata": {},
   "source": [
    "### Citations and Software"
   ]
  },
  {
   "cell_type": "markdown",
   "metadata": {},
   "source": [
    "AMIA alogrithms and the related scientific software are descirbed within academic publications. **Please ensure that you reference this pipeline and the respective software tool papers when you wish to use AMIA in published work.**"
   ]
  },
  {
   "cell_type": "markdown",
   "metadata": {},
   "source": [
    " [<img alt=\"File:PyMOL logo.svg\" src=\"//upload.wikimedia.org/wikipedia/commons/thumb/8/87/PyMOL_logo.svg/512px-PyMOL_logo.svg.png\" decoding=\"async\" width=\"50\" height=\"50\" srcset=\"//upload.wikimedia.org/wikipedia/commons/thumb/8/87/PyMOL_logo.svg/768px-PyMOL_logo.svg.png 1.5x, //upload.wikimedia.org/wikipedia/commons/thumb/8/87/PyMOL_logo.svg/1024px-PyMOL_logo.svg.png 2x\" data-file-width=\"512\" data-file-height=\"512\">](https://pymol.org/2/) [<img src=\"https://foldxsuite.crg.eu/sites/default/files/FoldX.png\" alt=\"Home\" width=\"100\" height=\"50\">](https://foldxsuite.crg.eu) [<img src=\"./imgs/gmx_logo.png\" alt=\"gmx\" width=\"120\" height=\"35\">](https://www.gromacs.org) [![Powered by MDAnalysis](https://img.shields.io/badge/powered%20by-MDAnalysis-orange.svg?logoWidth=16&logo=data:image/x-icon;base64,AAABAAEAEBAAAAEAIAAoBAAAFgAAACgAAAAQAAAAIAAAAAEAIAAAAAAAAAAAAAAAAAAAAAAAAAAAAAAAAAAAAAAAAJD+XwCY/fEAkf3uAJf97wGT/a+HfHaoiIWE7n9/f+6Hh4fvgICAjwAAAAAAAAAAAAAAAAAAAAAAAAAAAAAAAACT/yYAlP//AJ///wCg//8JjvOchXly1oaGhv+Ghob/j4+P/39/f3IAAAAAAAAAAAAAAAAAAAAAAAAAAAAAAAAAAAAAAJH8aQCY/8wAkv2kfY+elJ6al/yVlZX7iIiI8H9/f7h/f38UAAAAAAAAAAAAAAAAAAAAAAAAAAB/f38egYF/noqAebF8gYaagnx3oFpUUtZpaWr/WFhY8zo6OmT///8BAAAAAAAAAAAAAAAAAAAAAAAAAAAAAAAAgICAn46Ojv+Hh4b/jouJ/4iGhfcAAADnAAAA/wAAAP8AAADIAAAAAwCj/zIAnf2VAJD/PAAAAAAAAAAAAAAAAICAgNGHh4f/gICA/4SEhP+Xl5f/AwMD/wAAAP8AAAD/AAAA/wAAAB8Aov9/ALr//wCS/Z0AAAAAAAAAAAAAAACBgYGOjo6O/4mJif+Pj4//iYmJ/wAAAOAAAAD+AAAA/wAAAP8AAABhAP7+FgCi/38Axf4fAAAAAAAAAAAAAAAAiIiID4GBgYKCgoKogoB+fYSEgZhgYGDZXl5e/m9vb/9ISEjpEBAQxw8AAFQAAAAAAAAANQAAADcAAAAAAAAAAAAAAAAAAAAAAAAAAAAAAAAAAAAAjo6Mb5iYmP+cnJz/jY2N95CQkO4pKSn/AAAA7gAAAP0AAAD7AAAAhgAAAAEAAAAAAAAAAACL/gsAkv2uAJX/QQAAAAB9fX3egoKC/4CAgP+NjY3/c3Nz+wAAAP8AAAD/AAAA/wAAAPUAAAAcAAAAAAAAAAAAnP4NAJL9rgCR/0YAAAAAfX19w4ODg/98fHz/i4uL/4qKivwAAAD/AAAA/wAAAP8AAAD1AAAAGwAAAAAAAAAAAAAAAAAAAAAAAAAAAAAAALGxsVyqqqr/mpqa/6mpqf9KSUn/AAAA5QAAAPkAAAD5AAAAhQAAAAEAAAAAAAAAAAAAAAAAAAAAAAAAAAAAADkUFBSuZ2dn/3V1df8uLi7bAAAATgBGfyQAAAA2AAAAMwAAAAAAAAAAAAAAAAAAAAAAAAAAAAAAAAAAAB0AAADoAAAA/wAAAP8AAAD/AAAAWgC3/2AAnv3eAJ/+dgAAAAAAAAAAAAAAAAAAAAAAAAAAAAAAAAAAAAAAAAA9AAAA/wAAAP8AAAD/AAAA/wAKDzEAnP3WAKn//wCS/OgAf/8MAAAAAAAAAAAAAAAAAAAAAAAAAAAAAAAAAAAAIQAAANwAAADtAAAA7QAAAMAAABUMAJn9gwCe/e0Aj/2LAP//AQAAAAAAAAAA)](https://www.mdanalysis.org) [<img class=\"charmm-gui\" src=\"./imgs/charmm_gui.png\" width=\"50\" height=\"50\" alt=\"charmm_gui™\">](https://www.python.org) [<img class=\"python-logo\" src=\"./imgs/python-logo.png\" width=\"170\" height=\"50\" alt=\"python™\">](https://www.python.org)"
   ]
  }
 ],
 "metadata": {
  "kernelspec": {
   "display_name": "Python 3",
   "language": "python",
   "name": "python3"
  },
  "language_info": {
   "codemirror_mode": {
    "name": "ipython",
    "version": 3
   },
   "file_extension": ".py",
   "mimetype": "text/x-python",
   "name": "python",
   "nbconvert_exporter": "python",
   "pygments_lexer": "ipython3",
   "version": "3.11.6"
  }
 },
 "nbformat": 4,
 "nbformat_minor": 2
}
