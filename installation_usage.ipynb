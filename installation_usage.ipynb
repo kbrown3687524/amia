{
 "cells": [
  {
   "cell_type": "markdown",
   "metadata": {},
   "source": [
    "<img src=\"./imgs/logo-white.jpg\" alt=\"amia_logo\" width=\"250\" height=\"250\">"
   ]
  },
  {
   "cell_type": "markdown",
   "metadata": {},
   "source": [
    "**AMIA version:** 1.1 "
   ]
  },
  {
   "cell_type": "markdown",
   "metadata": {},
   "source": [
    "**Last Updated:** 5 Nov 2023"
   ]
  },
  {
   "cell_type": "markdown",
   "metadata": {},
   "source": [
    "## Installation\n",
    "This project was developed in a virtual environment on the command line and managed using conda for the respective packages and is recommended for installation purposes."
   ]
  },
  {
   "cell_type": "markdown",
   "metadata": {},
   "source": [
    "#### AMIA Download\n",
    "The current release an be downloaded as follows:\n",
    "```\n",
    "git clone https://github.com/kbrown3687524/amia\n",
    "```"
   ]
  },
  {
   "cell_type": "markdown",
   "metadata": {},
   "source": [
    "#### Conda env Setup\n",
    "Open a terminal with an active conda instanceand create a new env as follows:"
   ]
  },
  {
   "cell_type": "markdown",
   "metadata": {},
   "source": [
    "```\n",
    "conda env create -f amia_environment.yml\n",
    "conda activate amia_main\n",
    "```"
   ]
  },
  {
   "cell_type": "markdown",
   "metadata": {},
   "source": [
    "FoldX(4.0) is a standalone software tool that is required for this pipeline to run successfully. It should be downloaded and extracted within the main AMIA direcotry to ensure successful integration with the workflow."
   ]
  },
  {
   "cell_type": "markdown",
   "metadata": {},
   "source": [
    "```\n",
    "|-- AMIA Folder:\n",
    "  |  \n",
    "  |-- foldx:\n",
    "      |-- foldx_4\n",
    "      |-- yasaraPlugin.zip\n",
    "      |-- rotabase.txt\n",
    "```"
   ]
  },
  {
   "cell_type": "markdown",
   "metadata": {},
   "source": [
    "#### Testing"
   ]
  },
  {
   "cell_type": "markdown",
   "metadata": {},
   "source": [
    "Once the necessary dependencies have been installed, a successful installation can be tested by using the dataset provided within the ./test folder. The test can be initialized by providing chmod u+x access to the AMIA.py script and running the following:"
   ]
  },
  {
   "cell_type": "markdown",
   "metadata": {},
   "source": [
    "```\n",
    "./AMiA.py --mode *single or multiple --pdb_file ~/test/HIV-1C_ZA/RLT_Model_Repair.pdb --mutations ~/test/HIV-1C_ZA/mutations.csv --output_dir ~/test/variant_outputs\n",
    "```"
   ]
  },
  {
   "cell_type": "markdown",
   "metadata": {},
   "source": [
    "## Usage\n"
   ]
  },
  {
   "cell_type": "markdown",
   "metadata": {},
   "source": [
    "#### Phase 1: Mutation Introduction [](#phase-1-mutation-introduction)\n",
    "\n",
    "After successful installation, the scripts should be available to execute individually or imported into other projects. The normal method to execute this workflow involves calling the AMIA script supplied with its respective arguments. The files provided to the workflow are in designated formats - see test files for further clarification on formats.\n"
   ]
  },
  {
   "cell_type": "markdown",
   "metadata": {},
   "source": [
    "* Structure File: Protein Data Bank (.pdb)\n",
    "* Mutations File: Comma Separated Variable (.csv)"
   ]
  },
  {
   "cell_type": "markdown",
   "metadata": {},
   "source": [
    "The workflow can then be implemented as follows from within the terminal:"
   ]
  },
  {
   "cell_type": "markdown",
   "metadata": {},
   "source": [
    "```\n",
    "./AMIA.py --mode *single or multiple* --pdb_file *path/to/pdb_structure* --mutations *path/to/mutations_file* --output_dir *path/to/output_directory*\n",
    "```"
   ]
  },
  {
   "cell_type": "markdown",
   "metadata": {},
   "source": [
    "This will automatically introduce the mutations from each subset into the protein file and store the respective outputs in the defined directory. From there the changes in contacts before and after mutation introductuin as well as the stability of the systems will be tabulated and stored for the user to visualize in HTML format (.html)."
   ]
  },
  {
   "cell_type": "markdown",
   "metadata": {},
   "source": [
    "#### Phase 2: Trajectory Statistics Analyses and Visualizations [](#phase-2-trajectory-statistics-analyses-and-visualizations)\n",
    "\n",
    "Once all the respective output files have been generated from the first phase of the workflow, the original and Variant protein systems should then undergo Molecular Dynamis Simulations, afterwhich the repaired trajecotry and topology files shoudl be stored within a new user specified directory under their respective subfolders. See below for simulation storage:"
   ]
  },
  {
   "cell_type": "markdown",
   "metadata": {},
   "source": [
    "```\n",
    "|-- Trajectories Folder:\n",
    "  |\n",
    "  |-- System 1:\n",
    "  |   |-- System1.xtc (repaired)\n",
    "  |   |-- System1.tpr\n",
    "  |\n",
    "  |-- System 2:\n",
    "      |-- System2.xtc (repaired)\n",
    "      |-- System2.tpr\n",
    "\n",
    "``` "
   ]
  },
  {
   "cell_type": "markdown",
   "metadata": {},
   "source": [
    "The files provided to the workflow are in designated formats - respective documentation further clarification on formats:"
   ]
  },
  {
   "cell_type": "markdown",
   "metadata": {},
   "source": [
    "* Topology File: GROMACS Run Topology File (.tpr)\n",
    "* Simulation File: GROMACS Compressed Trajectory (.xtc)"
   ]
  },
  {
   "cell_type": "markdown",
   "metadata": {},
   "source": [
    "The trajectory analyses and bond type changes are then calculated automatically using the trajectory file and the associated topology files with the following command into the terminal:"
   ]
  },
  {
   "cell_type": "markdown",
   "metadata": {},
   "source": [
    "```\n",
    "./trajstat.py --systems *Trajectories Folder* --output_dir  *path/to/output_directory*\n",
    "```"
   ]
  },
  {
   "cell_type": "markdown",
   "metadata": {},
   "source": [
    "The trajstat.py script calculates and plots the following analyses:\n",
    "\n",
    "* Root Mean Square Deviation (RMSD) for the protein and nuleic acids present.\n",
    "\n",
    "* Root Mean Square Fluctuation (RMSF) per protein chain.\n",
    "\n",
    "* Radius of Gyration (rgyr) for the entire protein.\n",
    "\n",
    "* Calculates Hydrogen Bond changes between Protein-Protein, Protein-DNA and Protein-Ligands within each of the systems .\n",
    "\n",
    "* The changes in ionic bonds (saltbridges) between Protein-Protein, Protein-DNA and Protein-Ligand structures.\n",
    "\n",
    "* Generates PCA plots for data dimensionality reduction. "
   ]
  }
 ],
 "metadata": {
  "language_info": {
   "name": "python"
  }
 },
 "nbformat": 4,
 "nbformat_minor": 2
}
